{
 "cells": [
  {
   "cell_type": "markdown",
   "id": "2aa6a244-43b1-4bb5-abcd-667924dd0d5b",
   "metadata": {
    "scrolled": true
   },
   "source": [
    "# Preparations:\n",
    "initialize environment and install dependencies.\n",
    "```bash\n",
    "    python -m venv .venv\n",
    "    .venv\\Scripts\\activate\n",
    "    pip install chromadb sentence-transformers transformers gradio\n",
    "    pip install ipykernel\n",
    "    python -m ipykernel install --user --name=.venv --display-name \"Python (.venv)\"\n",
    "```\n",
    "\n",
    "if there is problem, try:\n",
    "```bash\n",
    "    pip install --upgrade jupyter ipywidgets\n",
    "```\n"
   ]
  },
  {
   "cell_type": "markdown",
   "id": "10549bdc-a5fb-4a99-a202-cb58df8b6f4a",
   "metadata": {},
   "source": [
    "# Code:"
   ]
  },
  {
   "cell_type": "code",
   "execution_count": null,
   "id": "5b77d035-3a0a-4355-8d9d-991a5452169e",
   "metadata": {},
   "outputs": [],
   "source": [
    "import chromadb\n",
    "from chromadb.utils import embedding_functions\n",
    "from transformers import pipeline\n",
    "import gradio as gr"
   ]
  },
  {
   "cell_type": "code",
   "execution_count": null,
   "id": "e8165d22-9850-422a-87bc-8f55509d1ebb",
   "metadata": {},
   "outputs": [],
   "source": [
    "# 1. Inisialisasi ChromaDB\n",
    "chroma_client = chromadb.PersistentClient(path=\"./chroma_db\")\n",
    "collection = chroma_client.get_or_create_collection(name=\"faq\")"
   ]
  },
  {
   "cell_type": "code",
   "execution_count": null,
   "id": "6fd90421-5aea-4314-a9e4-1e36d55a8c03",
   "metadata": {},
   "outputs": [],
   "source": [
    "# 2. Model untuk embedding (all-MiniLM-L6-v2)\n",
    "embedding_func = embedding_functions.SentenceTransformerEmbeddingFunction(model_name=\"sentence-transformers/all-MiniLM-L6-v2\")"
   ]
  },
  {
   "cell_type": "code",
   "execution_count": null,
   "id": "cd8196e3-39f1-4cb7-93e4-237a7f341ab9",
   "metadata": {},
   "outputs": [],
   "source": [
    "# 3. Model LLM untuk Generasi Jawaban (Flan-T5 Base)\n",
    "generator = pipeline(\n",
    "    \"text2text-generation\", \n",
    "    model=\"google/flan-t5-base\",\n",
    "    device=-1,  # -1 untuk CPU, 0 untuk GPU pertama\n",
    "    framework=\"pt\",  # Gunakan PyTorch (bisa \"tf\" untuk TensorFlow)\n",
    "    model_kwargs={\"torch_dtype\": \"auto\"}  # Optimasi tipe data otomatis\n",
    ")"
   ]
  },
  {
   "cell_type": "code",
   "execution_count": null,
   "id": "a15c4b48-7c53-403e-b2ba-401520d1c666",
   "metadata": {},
   "outputs": [],
   "source": [
    "# 4. Dataset Kecil (FAQ Chatbot)\n",
    "dataset = [\n",
    "    {\"question\": \"Apa itu AI?\", \"answer\": \"AI adalah kecerdasan buatan yang memungkinkan komputer melakukan tugas seperti manusia.\"},\n",
    "    {\"question\": \"Apa itu Machine Learning?\", \"answer\": \"Machine Learning adalah cabang AI yang memungkinkan komputer belajar dari data.\"},\n",
    "    {\"question\": \"Apa itu Chatbot?\", \"answer\": \"Chatbot adalah program yang dapat berinteraksi dengan manusia menggunakan bahasa alami.\"}\n",
    "]"
   ]
  },
  {
   "cell_type": "code",
   "execution_count": null,
   "id": "e8e24147-05e5-4957-9a09-5ffc0d691356",
   "metadata": {},
   "outputs": [],
   "source": [
    "collection.delete(ids=[str(i) for i in range(len(dataset))])  # Hapus data lama berdasarkan ID"
   ]
  },
  {
   "cell_type": "code",
   "execution_count": null,
   "id": "222bd4ab-228a-46c2-8546-1b12c2a63d4e",
   "metadata": {},
   "outputs": [],
   "source": [
    "# 5. Simpan Dataset ke ChromaDB\n",
    "for i, data in enumerate(dataset):\n",
    "    embedding = embedding_func([data[\"question\"]])[0]\n",
    "    collection.add(ids=[str(i)], documents=[data[\"answer\"]], embeddings=[embedding])"
   ]
  },
  {
   "cell_type": "code",
   "execution_count": null,
   "id": "27ad5a04-9ee5-4f18-95cf-40f9280a8e67",
   "metadata": {},
   "outputs": [],
   "source": [
    "print(\"Stored Data:\", collection.get())\n",
    "print('\\n')\n",
    "print(\"Stored IDs:\", collection.get()[\"ids\"])"
   ]
  },
  {
   "cell_type": "code",
   "execution_count": null,
   "id": "f50ed37a-c379-430d-ae8c-a61afcf0090e",
   "metadata": {},
   "outputs": [],
   "source": [
    "# 6. Fungsi Retrieve & Generate Jawaban\n",
    "def retrieve_answer(query):\n",
    "    query_embedding = embedding_func([query])[0]\n",
    "    results = collection.query(query_embeddings=[query_embedding], n_results=1)\n",
    "    print(f\"Distances: {results[\"distances\"][0][0]}\")  # Debugging\n",
    "    if not results[\"documents\"] or results[\"distances\"][0][0] > 0.4:  # Threshold 0.8 (atur sesuai kebutuhan)\n",
    "        return None  # Jika tidak ada dokumen relevan\n",
    "    return results[\"documents\"][0][0]\n",
    "\n",
    "def chat(query):\n",
    "    context = retrieve_answer(query)\n",
    "    print(f\"Context: {context}\")  # Debugging\n",
    "    if context is None:\n",
    "        return \"Saya tidak bisa menjawabnya.\"  # Respon default jika tidak ada jawaban di database\n",
    "    prompt = f\"Context: {context}\\nQuestion: {query}\\nAnswer:\"\n",
    "    print(f\"Prompt: {prompt}\")  # Debugging\n",
    "    response = generator(prompt, max_length=100)[0][\"generated_text\"]\n",
    "    return response"
   ]
  },
  {
   "cell_type": "code",
   "execution_count": null,
   "id": "232d3928-e14e-4395-9d26-0deef216d5d7",
   "metadata": {},
   "outputs": [],
   "source": [
    "# 7. Buat UI Chatbot dengan Gradio\n",
    "demo = gr.Interface(fn=chat, inputs=\"text\", outputs=\"text\", title=\"FAQ Chatbot\")\n",
    "\n",
    "demo.launch()"
   ]
  },
  {
   "cell_type": "code",
   "execution_count": null,
   "id": "209b5e74-8835-4cd1-966a-ac82afefdf0b",
   "metadata": {},
   "outputs": [],
   "source": []
  }
 ],
 "metadata": {
  "kernelspec": {
   "display_name": "Python (.venv)",
   "language": "python",
   "name": ".venv"
  },
  "language_info": {
   "codemirror_mode": {
    "name": "ipython",
    "version": 3
   },
   "file_extension": ".py",
   "mimetype": "text/x-python",
   "name": "python",
   "nbconvert_exporter": "python",
   "pygments_lexer": "ipython3",
   "version": "3.12.7"
  }
 },
 "nbformat": 4,
 "nbformat_minor": 5
}
