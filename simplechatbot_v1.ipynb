{
 "cells": [
  {
   "cell_type": "markdown",
   "id": "2aa6a244-43b1-4bb5-abcd-667924dd0d5b",
   "metadata": {
    "scrolled": true
   },
   "source": [
    "# Preparations:\n",
    "initialize environment and install dependencies.\n",
    "```bash\n",
    "    python -m venv .venv\n",
    "    .venv\\Scripts\\activate\n",
    "    pip install chromadb sentence-transformers transformers gradio\n",
    "    pip install ipykernel\n",
    "    python -m ipykernel install --user --name=.venv --display-name \"Python (.venv)\"\n",
    "```\n",
    "\n",
    "if there is problem, try:\n",
    "```bash\n",
    "    pip install --upgrade jupyter ipywidgets\n",
    "```\n"
   ]
  },
  {
   "cell_type": "markdown",
   "id": "10549bdc-a5fb-4a99-a202-cb58df8b6f4a",
   "metadata": {},
   "source": [
    "# Code:"
   ]
  },
  {
   "cell_type": "code",
   "execution_count": null,
   "id": "5b77d035-3a0a-4355-8d9d-991a5452169e",
   "metadata": {},
   "outputs": [],
   "source": [
    "import chromadb\n",
    "from chromadb.utils import embedding_functions\n",
    "from transformers import pipeline, T5Tokenizer, T5ForConditionalGeneration\n",
    "import gradio as gr"
   ]
  },
  {
   "cell_type": "code",
   "execution_count": null,
   "id": "e8165d22-9850-422a-87bc-8f55509d1ebb",
   "metadata": {},
   "outputs": [],
   "source": [
    "# 1. Inisialisasi ChromaDB\n",
    "chroma_client = chromadb.PersistentClient(path=\"./chroma_db\")  \n",
    "\n",
    "collection = chroma_client.get_or_create_collection(\n",
    "    name=\"faq_collection\",\n",
    "    metadata={\"hnsw:space\": \"cosine\"}  # Gunakan \"dot\" untuk dot product\n",
    ")"
   ]
  },
  {
   "cell_type": "code",
   "execution_count": null,
   "id": "6fd90421-5aea-4314-a9e4-1e36d55a8c03",
   "metadata": {},
   "outputs": [],
   "source": [
    "# 2. Model untuk embedding (all-MiniLM-L6-v2)\n",
    "embedding_func = embedding_functions.SentenceTransformerEmbeddingFunction(model_name=\"sentence-transformers/all-MiniLM-L6-v2\")"
   ]
  },
  {
   "cell_type": "code",
   "execution_count": null,
   "id": "cd8196e3-39f1-4cb7-93e4-237a7f341ab9",
   "metadata": {},
   "outputs": [],
   "source": [
    "# 3. Model LLM untuk Generasi Jawaban (Flan-T5 Base)\n",
    "tokenizer_flant5 = T5Tokenizer.from_pretrained(\"google/flan-t5-base\")\n",
    "model_flant5 = T5ForConditionalGeneration.from_pretrained(\"google/flan-t5-base\")"
   ]
  },
  {
   "cell_type": "code",
   "execution_count": null,
   "id": "8caf00bb-fe69-4736-b4d9-10bed83d3f93",
   "metadata": {},
   "outputs": [],
   "source": [
    "# 4. Model LLM untuk Parafrase Jawaban (T5 Small)\n",
    "tokenizer_t5 = T5Tokenizer.from_pretrained(\"google-t5/t5-small\")\n",
    "model_t5 = T5ForConditionalGeneration.from_pretrained(\"google-t5/t5-small\")"
   ]
  },
  {
   "cell_type": "code",
   "execution_count": null,
   "id": "a15c4b48-7c53-403e-b2ba-401520d1c666",
   "metadata": {},
   "outputs": [],
   "source": [
    "# 5. Dataset Kecil (FAQ Chatbot)\n",
    "dataset = [\n",
    "    {\"question\": \"What is AI?\", \"answer\": \"AI (Artificial Intelligence) refers to computer systems that can perform tasks requiring human-like intelligence such as learning and problem-solving.\"},\n",
    "    {\"question\": \"What is Machine Learning?\", \"answer\": \"Machine Learning (ML) is a subset of AI where systems learn patterns from data without explicit programming.\"},\n",
    "    {\"question\": \"How does ML relate to AI?\", \"answer\": \"ML is the primary method used to achieve AI capabilities through data-driven learning.\"},\n",
    "    {\"question\": \"What are the types of Machine Learning?\", \"answer\": \"Three main types: Supervised Learning, Unsupervised Learning, and Reinforcement Learning.\"},\n",
    "    {\"question\": \"What is Supervised Learning?\", \"answer\": \"ML approach using labeled data to train models, like predicting house prices from historical data.\"},\n",
    "    {\"question\": \"What is Unsupervised Learning?\", \"answer\": \"ML technique finding patterns in unlabeled data, commonly used for customer segmentation.\"},\n",
    "    {\"question\": \"What is Deep Learning?\", \"answer\": \"A ML specialization using artificial neural networks to process complex data like images and speech.\"},\n",
    "    {\"question\": \"What are neural networks?\", \"answer\": \"Computing systems inspired by biological brains, using interconnected layers to process information.\"},\n",
    "    {\"question\": \"What is Natural Language Processing (NLP)?\", \"answer\": \"AI technology enabling computers to understand, interpret, and generate human language.\"},\n",
    "    {\"question\": \"What is Computer Vision?\", \"answer\": \"AI field focused on enabling computers to interpret visual information from the world.\"},\n",
    "    \n",
    "    {\"question\": \"What are common AI applications?\", \"answer\": \"Virtual assistants, recommendation systems, fraud detection, and facial recognition.\"},\n",
    "    {\"question\": \"How does AI impact daily life?\", \"answer\": \"Through smartphone features, online recommendations, spam filters, and smart home devices.\"},\n",
    "    {\"question\": \"What data does AI need?\", \"answer\": \"AI systems require relevant, high-quality data - both structured (tables) and unstructured (images/text).\"},\n",
    "    {\"question\": \"Why is data important for AI?\", \"answer\": \"Data trains AI models - more diverse data typically leads to better performance.\"},\n",
    "    {\"question\": \"What is an AI algorithm?\", \"answer\": \"Step-by-step instructions that help AI systems process data and make decisions.\"},\n",
    "    {\"question\": \"What programming languages are used in AI?\", \"answer\": \"Python (most popular), R, Java, and Julia, often using libraries like TensorFlow and PyTorch.\"},\n",
    "    {\"question\": \"What is Reinforcement Learning?\", \"answer\": \"ML method where systems learn through trial-and-error using reward feedback.\"},\n",
    "    {\"question\": \"What is the Turing Test?\", \"answer\": \"A measure of machine intelligence where a human can't distinguish between AI and human responses.\"},\n",
    "    {\"question\": \"What are AI ethics?\", \"answer\": \"Principles ensuring AI development respects privacy, fairness, transparency, and human values.\"},\n",
    "    {\"question\": \"What is AI bias?\", \"answer\": \"Unfair outcomes caused by biased training data or flawed algorithms in AI systems.\"},\n",
    "    \n",
    "    {\"question\": \"What is Generative AI?\", \"answer\": \"AI that creates new content like text, images, or music (e.g., ChatGPT, DALL-E).\"},\n",
    "    {\"question\": \"How do chatbots work?\", \"answer\": \"Using NLP to understand queries and ML models to generate appropriate responses.\"},\n",
    "    {\"question\": \"What is predictive analytics?\", \"answer\": \"AI technique analyzing historical data to forecast future outcomes.\"},\n",
    "    {\"question\": \"What is pattern recognition?\", \"answer\": \"Core AI capability identifying regularities in data for classification/prediction.\"},\n",
    "    {\"question\": \"What is automation in AI?\", \"answer\": \"Using AI to perform repetitive tasks without human intervention.\"},\n",
    "    {\"question\": \"What is AI training?\", \"answer\": \"Process of feeding data to ML models to help them learn patterns.\"},\n",
    "    {\"question\": \"What is AI inference?\", \"answer\": \"Using trained models to make predictions on new data.\"},\n",
    "    {\"question\": \"What is overfitting?\", \"answer\": \"When AI models perform well on training data but poorly on new data.\"},\n",
    "    {\"question\": \"What is underfitting?\", \"answer\": \"When AI models fail to learn patterns from training data properly.\"},\n",
    "    {\"question\": \"What is transfer learning?\", \"answer\": \"Reusing pre-trained AI models for new tasks to save time/resources.\"},\n",
    "    \n",
    "    {\"question\": \"What are AI chips?\", \"answer\": \"Special processors (like GPUs) optimized for AI computations.\"},\n",
    "    {\"question\": \"What is edge AI?\", \"answer\": \"Running AI algorithms directly on devices instead of cloud servers.\"},\n",
    "    {\"question\": \"What is weak AI vs strong AI?\", \"answer\": \"Weak AI (narrow AI) handles specific tasks, while Strong AI (AGI) would match human intelligence.\"},\n",
    "    {\"question\": \"What is explainable AI?\", \"answer\": \"AI systems that can explain their decisions in understandable terms.\"},\n",
    "    {\"question\": \"How is AI used in healthcare?\", \"answer\": \"For medical imaging analysis, drug discovery, and personalized treatment plans.\"},\n",
    "    {\"question\": \"How is AI used in finance?\", \"answer\": \"For fraud detection, algorithmic trading, and credit scoring.\"},\n",
    "    {\"question\": \"What are AI risks?\", \"answer\": \"Job displacement, privacy concerns, security vulnerabilities, and ethical challenges.\"},\n",
    "    {\"question\": \"What is robotic process automation?\", \"answer\": \"Using AI bots to automate repetitive digital tasks like data entry.\"},\n",
    "    {\"question\": \"What is computer vision used for?\", \"answer\": \"Facial recognition, medical imaging, autonomous vehicles, and quality control.\"},\n",
    "    {\"question\": \"What is the AI development process?\", \"answer\": \"1. Problem definition 2. Data collection 3. Model training 4. Testing 5. Deployment\"},\n",
    "    \n",
    "    {\"question\": \"What skills are needed for AI?\", \"answer\": \"Programming, statistics, data analysis, and domain knowledge.\"},\n",
    "    {\"question\": \"What is feature engineering?\", \"answer\": \"Process of selecting/transforming raw data into useful inputs for AI models.\"},\n",
    "    {\"question\": \"What is a validation set?\", \"answer\": \"Data used during training to tune model parameters and prevent overfitting.\"},\n",
    "    {\"question\": \"What is a test set?\", \"answer\": \"Unseen data used to evaluate final model performance before deployment.\"},\n",
    "    {\"question\": \"What is precision vs recall?\", \"answer\": \"Precision measures accuracy of positive predictions, recall measures coverage of actual positives.\"},\n",
    "    {\"question\": \"What is big data in AI?\", \"answer\": \"Large, complex datasets requiring special processing that AI systems can analyze.\"},\n",
    "    {\"question\": \"What is the AI lifecycle?\", \"answer\": \"Continuous process: Data collection → Model training → Deployment → Monitoring → Updating\"},\n",
    "    {\"question\": \"What is MLOps?\", \"answer\": \"Practices combining ML development with IT operations for reliable AI deployment.\"},\n",
    "    {\"question\": \"What is synthetic data?\", \"answer\": \"Artificially generated data used when real data is scarce or sensitive.\"},\n",
    "    {\"question\": \"How to start learning AI?\", \"answer\": \"Begin with Python programming, basic statistics, and online ML courses, then practice with projects.\"}\n",
    "]"
   ]
  },
  {
   "cell_type": "code",
   "execution_count": null,
   "id": "e8e24147-05e5-4957-9a09-5ffc0d691356",
   "metadata": {
    "scrolled": true
   },
   "outputs": [],
   "source": [
    "# 6. Hapus data sebelumnya pada dataset\n",
    "collection.delete(ids=[str(i) for i in range(len(dataset))])  # Hapus data lama berdasarkan ID"
   ]
  },
  {
   "cell_type": "code",
   "execution_count": null,
   "id": "222bd4ab-228a-46c2-8546-1b12c2a63d4e",
   "metadata": {},
   "outputs": [],
   "source": [
    "# 7. Simpan Dataset ke ChromaDB\n",
    "for i, data in enumerate(dataset):\n",
    "    embedding = embedding_func([data[\"question\"]])[0]\n",
    "    collection.add(ids=[str(i)], documents=[data[\"answer\"]], embeddings=[embedding])"
   ]
  },
  {
   "cell_type": "code",
   "execution_count": null,
   "id": "27ad5a04-9ee5-4f18-95cf-40f9280a8e67",
   "metadata": {},
   "outputs": [],
   "source": [
    "print(\"Stored Data:\", collection.get())\n",
    "print('\\n')\n",
    "print(\"Stored IDs:\", collection.get()[\"ids\"])"
   ]
  },
  {
   "cell_type": "code",
   "execution_count": null,
   "id": "f50ed37a-c379-430d-ae8c-a61afcf0090e",
   "metadata": {},
   "outputs": [],
   "source": [
    "# 6. Fungsi Retrieve & Generate Jawaban\n",
    "def retrieve_answer(query):\n",
    "    query_embedding = embedding_func([query])[0]\n",
    "    results = collection.query(query_embeddings=[query_embedding], n_results=5)\n",
    "    print(f\"\\nDistances: {results['distances'][0][0]}\")  # Debugging\n",
    "    \n",
    "    if not results[\"documents\"] or results[\"distances\"][0][0] > 0.6:  # Threshold\n",
    "        return None\n",
    "    return results[\"documents\"][0][0]\n",
    "    \n",
    "def rephrase(responses):\n",
    "    response = \". \".join(responses) + \".\"\n",
    "    prompt = f\"Rewrite the following text in a fluent and natural way: {response}\"\n",
    "    print(f\"\\nPrompt (rephrase): {prompt}\")  # Debugging\n",
    "    \n",
    "    input_ids = tokenizer_t5.encode(prompt, return_tensors=\"pt\")\n",
    "\n",
    "    # Generate output\n",
    "    outputs = model_t5.generate(\n",
    "        input_ids,\n",
    "        \n",
    "        # Panjang output\n",
    "        min_length=10,              \n",
    "        max_length=150,             \n",
    "    \n",
    "        # Sampling (jika `do_sample=True`)\n",
    "        do_sample=True,             \n",
    "        temperature=0.8,            \n",
    "        top_k=50,                   \n",
    "        top_p=0.9,                  \n",
    "        \n",
    "        # # Beam Search\n",
    "        # num_beams=5,               \n",
    "        # early_stopping=True,        \n",
    "    \n",
    "        # Penalti untuk menghindari pengulangan kata/frasa\n",
    "        repetition_penalty=1.0,     \n",
    "        no_repeat_ngram_size=2,     \n",
    "    \n",
    "        # # Penalti panjang output\n",
    "        # length_penalty=1.2,\n",
    "    \n",
    "        # # Jumlah output yang dihasilkan\n",
    "        # num_return_sequences=3  \n",
    "    )\n",
    "\n",
    "    # Decode hasil\n",
    "    rephrased_responses = tokenizer_t5.decode(outputs[0], skip_special_tokens=True)\n",
    "    return rephrased_responses\n",
    "\n",
    "def chat(query):\n",
    "    context = retrieve_answer(query)\n",
    "    if context is None:\n",
    "        return \"Sorry, i can't answer that question.\"\n",
    "    \n",
    "    prompt = f\"Answer the question: {query} based on the given context: {context}\"\n",
    "    print(f\"\\nPrompt (chat): {prompt}\")  # Debugging\n",
    "    \n",
    "    input_ids = tokenizer_flant5.encode(prompt, return_tensors=\"pt\")\n",
    "    \n",
    "    # Generate output\n",
    "    outputs = model_flant5.generate(\n",
    "        input_ids,\n",
    "        \n",
    "        # Panjang output\n",
    "        min_length=10,              \n",
    "        max_length=100,             \n",
    "    \n",
    "        # # Sampling (jika `do_sample=True`)\n",
    "        # do_sample=True,             \n",
    "        # temperature=0.7,            \n",
    "        # top_k=50,                   \n",
    "        # top_p=0.9,                  \n",
    "        \n",
    "        # Beam Search\n",
    "        num_beams=5,               \n",
    "        early_stopping=True,        \n",
    "    \n",
    "        # Penalti untuk menghindari pengulangan kata/frasa\n",
    "        repetition_penalty=1.5,     \n",
    "        no_repeat_ngram_size=2,     \n",
    "    \n",
    "        # Penalti panjang output\n",
    "        length_penalty=1.2,\n",
    "    \n",
    "        # Jumlah output yang dihasilkan\n",
    "        num_return_sequences=3      \n",
    "    )\n",
    "    \n",
    "    # Decode hasil\n",
    "    responses = [tokenizer_flant5.decode(output, skip_special_tokens=True) for output in outputs]\n",
    "    print(f\"\\nResponses (chat): {responses}\")  # Debugging\n",
    "    \n",
    "    rephrased_responses = rephrase(responses)\n",
    "    return rephrased_responses"
   ]
  },
  {
   "cell_type": "markdown",
   "id": "27024565-cc55-4528-b2a8-5a6eff27ff21",
   "metadata": {},
   "source": [
    "# **Penjelasan Parameter**\n",
    "| **Parameter** | **Fungsi** | **Nilai Default** |\n",
    "|--------------|-----------|------------------|\n",
    "| `max_length` | Maksimal panjang output dalam token. | `20` |\n",
    "| `min_length` | Minimal panjang output dalam token. | `0` |\n",
    "| `do_sample` | Aktifkan sampling untuk variasi respons. | `False` |\n",
    "| `temperature` | Mengontrol randomness (semakin tinggi, semakin acak). | `1.0` |\n",
    "| `top_k` | Memilih hanya **k** token dengan probabilitas tertinggi. | `50` |\n",
    "| `top_p` | Hanya memilih token hingga probabilitas kumulatifnya mencapai **p** (0.0-1.0). | `1.0` |\n",
    "| `repetition_penalty` | Penalti untuk pengulangan kata yang sama. | `1.0` |\n",
    "| `length_penalty` | Mengontrol panjang output. Nilai lebih kecil = lebih pendek. | `1.0` |\n",
    "| `num_beams` | Menentukan jumlah kemungkinan output yang dipertimbangkan. | `1` |\n",
    "| `early_stopping` | Berhenti lebih cepat jika model merasa sudah selesai. | `False` |\n",
    "| `num_return_sequences` | Jumlah output berbeda yang dihasilkan. | `1` |\n",
    "\n",
    "---\n",
    "\n",
    "# **Kapan Gunakan Parameter Tertentu?**\n",
    "| **Skenario** | **Gunakan** |\n",
    "|-------------|------------|\n",
    "| **Mau output lebih panjang?** | `max_length` besar, `length_penalty > 1.0` |\n",
    "| **Mau output lebih pendek?** | `max_length` kecil, `length_penalty < 1.0` |\n",
    "| **Mau variasi jawaban?** | `do_sample=True`, `temperature > 0.7`, `num_return_sequences > 1` |\n",
    "| **Mau jawaban lebih akurat & deterministik?** | `do_sample=False`, `temperature=0`, `top_k=1` |\n",
    "| **Mau menghindari pengulangan kata?** | `repetition_penalty > 1.0` |\n",
    "| **Mau jawaban lebih kreatif?** | `temperature > 1.0`, `top_k > 50`, `top_p > 0.9` |\n"
   ]
  },
  {
   "cell_type": "code",
   "execution_count": null,
   "id": "232d3928-e14e-4395-9d26-0deef216d5d7",
   "metadata": {
    "scrolled": true
   },
   "outputs": [],
   "source": [
    "# 9. Buat UI Chatbot dengan Gradio\n",
    "demo = gr.Interface(fn=chat, inputs=\"text\", outputs=\"text\", title=\"FAQ Chatbot\")\n",
    "\n",
    "demo.launch()"
   ]
  },
  {
   "cell_type": "code",
   "execution_count": null,
   "id": "209b5e74-8835-4cd1-966a-ac82afefdf0b",
   "metadata": {},
   "outputs": [],
   "source": []
  }
 ],
 "metadata": {
  "kernelspec": {
   "display_name": "Python (.venv)",
   "language": "python",
   "name": ".venv"
  },
  "language_info": {
   "codemirror_mode": {
    "name": "ipython",
    "version": 3
   },
   "file_extension": ".py",
   "mimetype": "text/x-python",
   "name": "python",
   "nbconvert_exporter": "python",
   "pygments_lexer": "ipython3",
   "version": "3.12.7"
  }
 },
 "nbformat": 4,
 "nbformat_minor": 5
}
